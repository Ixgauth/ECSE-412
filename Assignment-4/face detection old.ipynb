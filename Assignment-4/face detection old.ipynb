{
 "cells": [
  {
   "cell_type": "code",
   "execution_count": null,
   "metadata": {},
   "outputs": [],
   "source": [
    "import cv2\n",
    "import numpy as np\n",
    "import matplotlib.pyplot as plt\n",
    "import argparse\n",
    "from math import atan2, cos, sin, sqrt, pi\n",
    "from __future__ import print_function\n",
    "from __future__ import division\n",
    "import glob\n",
    "from sklearn.decomposition import PCA\n"
   ]
  },
  {
   "cell_type": "code",
   "execution_count": null,
   "metadata": {},
   "outputs": [],
   "source": [
    "def getOrientation(points, image):\n",
    "    sz = len(points)\n",
    "    data_points = np.empty((sz, 2), dtype=np.float64)\n",
    "    for i in range(data_points.shape[0]):\n",
    "        data_points[i,0] = points[i,0,0]\n",
    "        data_points[i,1] = points[i,0,1]\n",
    "    \n",
    "    \n",
    "    # Perform PCA analysis\n",
    "    mean = np.empty((0))\n",
    "    \n",
    "    \n",
    "    mean, eigenvectors = cv2.PCACompute(data_points, mean)\n",
    "    \n",
    "    print(eigenvectors)\n",
    "    # Store the center of the object\n",
    "#     center = (int(mean[0,0]), int(mean[0,1]))\n",
    "    \n",
    "    \n",
    "#     # Draw the principal components\n",
    "#     cv2.circle(image, center, 3, (255, 0, 255), 2)\n",
    "#     p1 = (center[0] + 0.02 * eigenvectors[0,0] * eigenvalues[0,0], center[1] + 0.02 * eigenvectors[0,1] * eigenvalues[0,0])\n",
    "#     p2 = (center[0] - 0.02 * eigenvectors[1,0] * eigenvalues[1,0], center[1] - 0.02 * eigenvectors[1,1] * eigenvalues[1,0])\n",
    "    \n",
    "    \n",
    "#     drawAxis(image, center, p1, (0, 255, 0), 1)\n",
    "#     drawAxis(image, center, p2, (255, 255, 0), 5)\n",
    "    \n",
    "#     angle = atan2(eigenvectors[0,1], eigenvectors[0,0]) # orientation in radians\n",
    "    \n",
    "#     return angle"
   ]
  },
  {
   "cell_type": "code",
   "execution_count": null,
   "metadata": {},
   "outputs": [],
   "source": [
    "def drawAxis(image, p_, q_, colour, scale):\n",
    "    p = list(p_)\n",
    "    q = list(q_)\n",
    "    \n",
    "    angle = atan2(p[1] - q[1], p[0] - q[0]) # angle in radians\n",
    "    hypotenuse = sqrt((p[1] - q[1]) * (p[1] - q[1]) + (p[0] - q[0]) * (p[0] - q[0]))\n",
    "    \n",
    "    # Here we lengthen the arrow by a factor of scale\n",
    "    q[0] = p[0] - scale * hypotenuse * cos(angle)\n",
    "    q[1] = p[1] - scale * hypotenuse * sin(angle)\n",
    "    cv.line(image, (int(p[0]), int(p[1])), (int(q[0]), int(q[1])), colour, 1, cv.LINE_AA)\n",
    "    \n",
    "    # create the arrow hooks\n",
    "    p[0] = q[0] + 9 * cos(angle + pi / 4)\n",
    "    p[1] = q[1] + 9 * sin(angle + pi / 4)\n",
    "    cv.line(image, (int(p[0]), int(p[1])), (int(q[0]), int(q[1])), colour, 1, cv.LINE_AA)\n",
    "    p[0] = q[0] + 9 * cos(angle - pi / 4)\n",
    "    p[1] = q[1] + 9 * sin(angle - pi / 4)\n",
    "    cv.line(image, (int(p[0]), int(p[1])), (int(q[0]), int(q[1])), colour, 1, cv.LINE_AA)\n"
   ]
  },
  {
   "cell_type": "code",
   "execution_count": null,
   "metadata": {},
   "outputs": [],
   "source": [
    "src = cv2.imread('images/jamie-1.jpeg')\n",
    "\n",
    "if src is None:\n",
    "    print('Could not open or find the image')\n",
    "    exit(0)\n",
    "\n",
    "\n",
    "gray = cv2.cvtColor(src, cv2.COLOR_BGR2GRAY)\n",
    "\n",
    "# _, bw = cv2.threshold(gray, 50, 255, cv2.THRESH_BINARY | cv2.THRESH_OTSU)\n",
    "\n",
    "# _, contours, _ = cv2.findContours(bw, cv2.RETR_LIST, cv2.CHAIN_APPROX_NONE)\n",
    "\n",
    "\n",
    "# for i, c in enumerate(contours):\n",
    "#     # Calculate the area of each contour\n",
    "#     area = cv.contourArea(c);\n",
    "#     # Ignore contours that are too small or too large\n",
    "#     if area < 1e2 or 1e5 < area:\n",
    "#         continue\n",
    "        \n",
    "#     # Draw each contour only for visualisation purposes\n",
    "#     cv.drawContours(src, contours, i, (0, 0, 255), 2);\n",
    "#     # Find the orientation of each shape\n",
    "#     getOrientation(c, src)"
   ]
  }
 ],
 "metadata": {
  "kernelspec": {
   "display_name": "Python 3",
   "language": "python",
   "name": "python3"
  },
  "language_info": {
   "codemirror_mode": {
    "name": "ipython",
    "version": 3
   },
   "file_extension": ".py",
   "mimetype": "text/x-python",
   "name": "python",
   "nbconvert_exporter": "python",
   "pygments_lexer": "ipython3",
   "version": "3.6.5"
  }
 },
 "nbformat": 4,
 "nbformat_minor": 2
}
